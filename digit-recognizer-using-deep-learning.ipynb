{
 "cells": [
  {
   "cell_type": "markdown",
   "metadata": {
    "_uuid": "981ace6d8686a291320f09ecc94b92aea8e25ea3"
   },
   "source": [
    "# MNIST Digit Recognizer using Convolutional Neural Network"
   ]
  },
  {
   "cell_type": "markdown",
   "metadata": {
    "_uuid": "c3ae1521d038a14d80d85e5e545b8da48eeadea5"
   },
   "source": [
    "## Load Dataset"
   ]
  },
  {
   "cell_type": "code",
   "execution_count": 1,
   "metadata": {
    "_uuid": "eb6633bc1b40ddae1769e17993ecc39eb4eb2126"
   },
   "outputs": [
    {
     "name": "stderr",
     "output_type": "stream",
     "text": [
      "Using TensorFlow backend.\n"
     ]
    }
   ],
   "source": [
    "import numpy as np\n",
    "import pandas as pd\n",
    "import random as rn\n",
    "import tensorflow as tf\n",
    "from keras import backend as K\n",
    "\n",
    "session_conf = tf.ConfigProto(intra_op_parallelism_threads=1, inter_op_parallelism_threads=1)\n",
    "sess = tf.Session(graph=tf.get_default_graph(), config=session_conf)\n",
    "K.set_session(sess)\n",
    "\n",
    "\n",
    "rn.seed(20)\n",
    "np.random.seed(8)\n",
    "tf.set_random_seed(1998)"
   ]
  },
  {
   "cell_type": "code",
   "execution_count": 2,
   "metadata": {
    "_cell_guid": "b1076dfc-b9ad-4769-8c92-a6c4dae69d19",
    "_uuid": "8f2839f25d086af736a60e9eeb907d3b93b6e0e5"
   },
   "outputs": [
    {
     "name": "stdout",
     "output_type": "stream",
     "text": [
      "(42000, 785)\n",
      "   label  pixel0  pixel1    ...     pixel781  pixel782  pixel783\n",
      "0      1       0       0    ...            0         0         0\n",
      "1      0       0       0    ...            0         0         0\n",
      "2      1       0       0    ...            0         0         0\n",
      "3      4       0       0    ...            0         0         0\n",
      "4      0       0       0    ...            0         0         0\n",
      "\n",
      "[5 rows x 785 columns]\n"
     ]
    }
   ],
   "source": [
    "train = pd.read_csv(\"../input/train.csv\")\n",
    "print(train.shape)\n",
    "print(train.head())"
   ]
  },
  {
   "cell_type": "code",
   "execution_count": 3,
   "metadata": {
    "_cell_guid": "79c7e3d0-c299-4dcb-8224-4455121ee9b0",
    "_uuid": "d629ff2d2480ee46fbb7e2d37f6b5fab8052498a"
   },
   "outputs": [
    {
     "name": "stdout",
     "output_type": "stream",
     "text": [
      "(28000, 784)\n",
      "   pixel0  pixel1  pixel2    ...     pixel781  pixel782  pixel783\n",
      "0       0       0       0    ...            0         0         0\n",
      "1       0       0       0    ...            0         0         0\n",
      "2       0       0       0    ...            0         0         0\n",
      "3       0       0       0    ...            0         0         0\n",
      "4       0       0       0    ...            0         0         0\n",
      "\n",
      "[5 rows x 784 columns]\n"
     ]
    }
   ],
   "source": [
    "test = pd.read_csv(\"../input/test.csv\")\n",
    "print(test.shape)\n",
    "print(test.head())"
   ]
  },
  {
   "cell_type": "code",
   "execution_count": 4,
   "metadata": {
    "_uuid": "0224e731329b18c3e74b7b72c31c460e217aeac3"
   },
   "outputs": [],
   "source": [
    "XTrain = train.iloc[:,1:].values.astype('float32')\n",
    "yTrain = train.iloc[:,0].values.astype('int32')\n",
    "\n",
    "XTest = test.values.astype('float32')"
   ]
  },
  {
   "cell_type": "code",
   "execution_count": 5,
   "metadata": {
    "_uuid": "02fb1e03270e922d7bb4ab25cb247acc74e21175"
   },
   "outputs": [],
   "source": [
    "#Converting Flattened images to its 2D matrix form\n",
    "XTrain = XTrain.reshape(XTrain.shape[0], 28, 28)\n",
    "XTest = XTest.reshape(XTest.shape[0], 28, 28)"
   ]
  },
  {
   "cell_type": "markdown",
   "metadata": {
    "_uuid": "9b7cdcd02bb4bcc225587fac94e5391603640726"
   },
   "source": [
    "### Image Visualisation"
   ]
  },
  {
   "cell_type": "code",
   "execution_count": 6,
   "metadata": {
    "_uuid": "4b8c3fbcf1cff793f81b5eb9b01837ab2249a2ec"
   },
   "outputs": [
    {
     "data": {
      "image/png": "[encoded data removed]",
      "text/plain": [
       "<Figure size 432x288 with 6 Axes>"
      ]
     },
     "metadata": {},
     "output_type": "display_data"
    }
   ],
   "source": [
    "import matplotlib.pyplot as plt\n",
    "\n",
    "for i in range(6):\n",
    "    plt.subplot(231 + i) #2 row, 3 col -> 6 cells; place image in 1st, 2nd,..6th cell\n",
    "    plt.imshow(XTrain[100+i])\n",
    "    plt.title(yTrain[100+i])\n"
   ]
  },
  {
   "cell_type": "code",
   "execution_count": 7,
   "metadata": {
    "_uuid": "97754e130e2a7e537976dbc1e79b0841f8a0a056"
   },
   "outputs": [],
   "source": [
    "#Expand one more dimension for Colour channel Gray\n",
    "XTrain = XTrain.reshape(XTrain.shape[0], 28, 28, 1)\n",
    "XTest = XTest.reshape(XTest.shape[0], 28, 28, 1)\n",
    "\n",
    "#Normalise inputs from 0-255 to 0-1\n",
    "XTrain = XTrain/255\n",
    "XTest = XTest/255"
   ]
  },
  {
   "cell_type": "code",
   "execution_count": 8,
   "metadata": {
    "_uuid": "b59b4d1348d8f8a94be2704b2f59abbedb8f1c43",
    "scrolled": true
   },
   "outputs": [
    {
     "data": {
      "text/plain": [
       "([<matplotlib.axis.XTick at 0x7f01a054db00>,\n",
       "  <matplotlib.axis.XTick at 0x7f01a053d4e0>,\n",
       "  <matplotlib.axis.XTick at 0x7f01a053d860>,\n",
       "  <matplotlib.axis.XTick at 0x7f01a04ff828>,\n",
       "  <matplotlib.axis.XTick at 0x7f01a04ffcf8>,\n",
       "  <matplotlib.axis.XTick at 0x7f01a050c208>,\n",
       "  <matplotlib.axis.XTick at 0x7f01a050c6d8>,\n",
       "  <matplotlib.axis.XTick at 0x7f01a050cba8>,\n",
       "  <matplotlib.axis.XTick at 0x7f01a0513160>,\n",
       "  <matplotlib.axis.XTick at 0x7f01a05135f8>],\n",
       " <a list of 10 Text xticklabel objects>)"
      ]
     },
     "execution_count": 8,
     "metadata": {},
     "output_type": "execute_result"
    },
    {
     "data": {
      "image/png": "[encoded data removed]",
      "text/plain": [
       "<Figure size 432x288 with 1 Axes>"
      ]
     },
     "metadata": {},
     "output_type": "display_data"
    }
   ],
   "source": [
    "#OneHot Encoding of labels\n",
    "from keras.utils.np_utils import to_categorical\n",
    "yTrain = to_categorical(yTrain)\n",
    "\n",
    "#Plotting one of the label\n",
    "import matplotlib.pyplot as plt\n",
    "plt.figure()\n",
    "plt.title(yTrain[1000])\n",
    "plt.plot(yTrain[1000])\n",
    "plt.xticks(range(10))"
   ]
  },
  {
   "cell_type": "markdown",
   "metadata": {
    "_uuid": "508c010f4bc714b4a2de6a6429b33a36bbd5ba86"
   },
   "source": [
    "## Build Convolution Neural Network"
   ]
  },
  {
   "cell_type": "code",
   "execution_count": 9,
   "metadata": {
    "_uuid": "2ba7ccd92490db73321942d3909bb64ebc1a16f3"
   },
   "outputs": [],
   "source": [
    "#import libraries\n",
    "from keras.models import Sequential\n",
    "from keras.layers import Convolution2D, MaxPooling2D, BatchNormalization, Flatten, Dense, Dropout"
   ]
  },
  {
   "cell_type": "code",
   "execution_count": 10,
   "metadata": {
    "_uuid": "c51fba6ba382a17eebe251010b8b1a941f8ea1d8"
   },
   "outputs": [],
   "source": [
    "def convNeuralNetwork():\n",
    "    model = Sequential([\n",
    "        Convolution2D(32, input_shape=(28,28,1), kernel_size=(3,3), strides=(1,1), padding='same', activation='relu'),\n",
    "        MaxPooling2D(pool_size=(2,2), strides=(2,2)),\n",
    "        BatchNormalization(),\n",
    "        Dropout(0.3),\n",
    "        Convolution2D(32, kernel_size=(3,3), strides=(1,1), padding='same', activation='relu'),\n",
    "        MaxPooling2D(pool_size=(2,2), strides=(2,2)),\n",
    "        BatchNormalization(),\n",
    "        Dropout(0.3),\n",
    "        Convolution2D(32, kernel_size=(3,3), strides=(1,1), padding='same', activation='relu'),\n",
    "        MaxPooling2D(pool_size=(2,2), strides=(2,2)),\n",
    "        BatchNormalization(),\n",
    "        Dropout(0.3),\n",
    "        Flatten(),\n",
    "        Dense(96, activation='relu'),\n",
    "        Dense(10, activation='softmax')\n",
    "    ])\n",
    "    model.compile(optimizer='adam', loss='categorical_crossentropy', metrics=['accuracy'])\n",
    "    return model\n",
    "    "
   ]
  },
  {
   "cell_type": "code",
   "execution_count": 11,
   "metadata": {
    "_uuid": "f1c0f3bb6aba200df66c7521fada3b8b9f908b66"
   },
   "outputs": [
    {
     "name": "stdout",
     "output_type": "stream",
     "text": [
      "_________________________________________________________________\n",
      "Layer (type)                 Output Shape              Param #   \n",
      "=================================================================\n",
      "conv2d_1 (Conv2D)            (None, 28, 28, 32)        320       \n",
      "_________________________________________________________________\n",
      "max_pooling2d_1 (MaxPooling2 (None, 14, 14, 32)        0         \n",
      "_________________________________________________________________\n",
      "batch_normalization_1 (Batch (None, 14, 14, 32)        128       \n",
      "_________________________________________________________________\n",
      "dropout_1 (Dropout)          (None, 14, 14, 32)        0         \n",
      "_________________________________________________________________\n",
      "conv2d_2 (Conv2D)            (None, 14, 14, 32)        9248      \n",
      "_________________________________________________________________\n",
      "max_pooling2d_2 (MaxPooling2 (None, 7, 7, 32)          0         \n",
      "_________________________________________________________________\n",
      "batch_normalization_2 (Batch (None, 7, 7, 32)          128       \n",
      "_________________________________________________________________\n",
      "dropout_2 (Dropout)          (None, 7, 7, 32)          0         \n",
      "_________________________________________________________________\n",
      "conv2d_3 (Conv2D)            (None, 7, 7, 32)          9248      \n",
      "_________________________________________________________________\n",
      "max_pooling2d_3 (MaxPooling2 (None, 3, 3, 32)          0         \n",
      "_________________________________________________________________\n",
      "batch_normalization_3 (Batch (None, 3, 3, 32)          128       \n",
      "_________________________________________________________________\n",
      "dropout_3 (Dropout)          (None, 3, 3, 32)          0         \n",
      "_________________________________________________________________\n",
      "flatten_1 (Flatten)          (None, 288)               0         \n",
      "_________________________________________________________________\n",
      "dense_1 (Dense)              (None, 96)                27744     \n",
      "_________________________________________________________________\n",
      "dense_2 (Dense)              (None, 10)                970       \n",
      "=================================================================\n",
      "Total params: 47,914\n",
      "Trainable params: 47,722\n",
      "Non-trainable params: 192\n",
      "_________________________________________________________________\n",
      "None\n"
     ]
    }
   ],
   "source": [
    "classifier = convNeuralNetwork()\n",
    "classifier.optimizer.lr = 0.01\n",
    "print(classifier.summary())"
   ]
  },
  {
   "cell_type": "code",
   "execution_count": 12,
   "metadata": {
    "_uuid": "c8797ef12118ec7f95c87a1a52f8e41d3259bd51"
   },
   "outputs": [
    {
     "name": "stdout",
     "output_type": "stream",
     "text": [
      "Train on 33600 samples, validate on 8400 samples\n",
      "Epoch 1/20\n",
      "33600/33600 [==============================] - 33s 976us/step - loss: 0.2698 - acc: 0.9193 - val_loss: 0.0968 - val_acc: 0.9694\n",
      "Epoch 2/20\n",
      "33600/33600 [==============================] - 31s 918us/step - loss: 0.1735 - acc: 0.9502 - val_loss: 0.0746 - val_acc: 0.9779\n",
      "Epoch 3/20\n",
      "33600/33600 [==============================] - 31s 922us/step - loss: 0.1633 - acc: 0.9546 - val_loss: 0.1212 - val_acc: 0.9677\n",
      "Epoch 4/20\n",
      "33600/33600 [==============================] - 31s 923us/step - loss: 0.1584 - acc: 0.9599 - val_loss: 0.0812 - val_acc: 0.9782\n",
      "Epoch 5/20\n",
      "33600/33600 [==============================] - 31s 919us/step - loss: 0.1546 - acc: 0.9612 - val_loss: 0.0660 - val_acc: 0.9820\n",
      "Epoch 6/20\n",
      "33600/33600 [==============================] - 31s 917us/step - loss: 0.1460 - acc: 0.9646 - val_loss: 0.0648 - val_acc: 0.9848\n",
      "Epoch 7/20\n",
      "33600/33600 [==============================] - 31s 919us/step - loss: 0.1425 - acc: 0.9651 - val_loss: 0.0820 - val_acc: 0.9812\n",
      "Epoch 8/20\n",
      "33600/33600 [==============================] - 31s 921us/step - loss: 0.1349 - acc: 0.9672 - val_loss: 0.0744 - val_acc: 0.9835\n",
      "Epoch 9/20\n",
      "33600/33600 [==============================] - 30s 907us/step - loss: 0.1421 - acc: 0.9674 - val_loss: 0.0879 - val_acc: 0.9817\n",
      "Epoch 10/20\n",
      "33600/33600 [==============================] - 31s 918us/step - loss: 0.1604 - acc: 0.9650 - val_loss: 0.0717 - val_acc: 0.9820\n",
      "Epoch 11/20\n",
      "33600/33600 [==============================] - 31s 921us/step - loss: 0.1428 - acc: 0.9676 - val_loss: 0.0663 - val_acc: 0.9858\n",
      "Epoch 12/20\n",
      "18010/33600 [===============>..............] - ETA: 13s - loss: 0.1569 - acc: 0.9667"
     ]
    }
   ],
   "source": [
    "#Fit Model\n",
    "history = classifier.fit(XTrain, yTrain, batch_size=10, epochs=20, validation_split=0.2,  verbose=1)"
   ]
  },
  {
   "cell_type": "code",
   "execution_count": 13,
   "metadata": {
    "_uuid": "4c22028b4e30a126ab7846be77eced54eb14d5ca"
   },
   "outputs": [
    {
     "name": "stdout",
     "output_type": "stream",
     "text": [
      "[0. 1. 0. 0. 0. 0. 0. 0. 0. 0.]\n",
      "Confusion Matrix\n",
      ": [[4116    0    1    0    1    0    1    0   12    1]\n",
      " [   0 4655    6    0    1    0    2   13    7    0]\n",
      " [   3    4 4144    1    0    0    1    5   16    3]\n",
      " [   2    1   10 4260    0    2    0    7   61    8]\n",
      " [   2    5    2    0 4025    0   17    4    8    9]\n",
      " [   6    1    0    6    0 3714    8    1   39   20]\n",
      " [  77    2    1    0    1    2 4033    0   21    0]\n",
      " [   0    5   24    0    3    0    0 4353    8    8]\n",
      " [   9    5    8    2    4    2    3    1 4014   15]\n",
      " [   7    0    0    0  108    1    0   17   24 4031]]\n",
      "Accuracy on dataset =  0.9844047619047619\n"
     ]
    },
    {
     "data": {
      "text/plain": [
       "Text(0.5,0,'Epoch')"
      ]
     },
     "execution_count": 13,
     "metadata": {},
     "output_type": "execute_result"
    },
    {
     "data": {
      "image/png": "[encoded data removed]",
      "text/plain": [
       "<Figure size 432x288 with 1 Axes>"
      ]
     },
     "metadata": {},
     "output_type": "display_data"
    }
   ],
   "source": [
    "from sklearn.metrics import confusion_matrix, accuracy_score\n",
    "yPred = classifier.predict(XTrain)\n",
    "print(yPred[0])\n",
    "cm = confusion_matrix(np.argmax(yTrain,axis=1),np.argmax(yPred,axis=1))\n",
    "print(\"Confusion Matrix\\n:\",cm)\n",
    "accuracy = accuracy_score(np.argmax(yTrain,axis=1),np.argmax(yPred,axis=1))\n",
    "print(\"Accuracy on dataset = \",accuracy)\n",
    "\n",
    "from matplotlib import pyplot as plt\n",
    "plt.figure()\n",
    "plt.plot(history.history['acc'],'green',label='Training Accuracy')\n",
    "plt.plot(history.history['val_acc'],'blue',label='Validation Accuracy')\n",
    "plt.plot(history.history['loss'],'red',label='Loss')\n",
    "plt.plot(history.history['val_loss'],'orange',label='Validation Loss')\n",
    "plt.title('Validation Accuracy & Loss')\n",
    "plt.xlabel('Epoch')\n"
   ]
  },
  {
   "cell_type": "markdown",
   "metadata": {
    "_uuid": "d36fa7ffc1b1020bfd05cab5303dd6c7a1fd16cd"
   },
   "source": [
    "## Predicting Test Set Results\n"
   ]
  },
  {
   "cell_type": "code",
   "execution_count": 14,
   "metadata": {
    "_uuid": "1f306a711e3d20c3796155c45f965ad150c3eb10"
   },
   "outputs": [
    {
     "name": "stdout",
     "output_type": "stream",
     "text": [
      "28000/28000 [==============================] - 2s 71us/step\n"
     ]
    }
   ],
   "source": [
    "predictions = classifier.predict_classes(XTest, verbose=1)\n",
    "result = pd.DataFrame({\"ImageId\": list(range(1,len(predictions)+1)),\n",
    "                         \"Label\": predictions})\n",
    "result.to_csv(\"result4.csv\", index=False, header=True)"
   ]
  },
  {
   "cell_type": "markdown",
   "metadata": {
    "_uuid": "5b830ae0ada6bee73cce9d7b56f37d7b5ee15048"
   },
   "source": [
    "### Save the Model"
   ]
  },
  {
   "cell_type": "code",
   "execution_count": 15,
   "metadata": {
    "_uuid": "7f1620dab188e60617ff684a90fb0b7555a29b2b"
   },
   "outputs": [],
   "source": [
    "#Serialize model to JSON\n",
    "model_json = classifier.to_json()\n",
    "with open(\"model4.json\", \"w\") as json_file:\n",
    "    json_file.write(model_json)\n",
    "\n",
    "#Serialize weights to HDF5\n",
    "classifier.save_weights(\"model4.h5\")"
   ]
  }
 ],
 "metadata": {
  "kernelspec": {
   "display_name": "Python 3",
   "language": "python",
   "name": "python3"
  },
  "language_info": {
   "codemirror_mode": {
    "name": "ipython",
    "version": 3
   },
   "file_extension": ".py",
   "mimetype": "text/x-python",
   "name": "python",
   "nbconvert_exporter": "python",
   "pygments_lexer": "ipython3",
   "version": "3.6.5"
  }
 },
 "nbformat": 4,
 "nbformat_minor": 1
}
